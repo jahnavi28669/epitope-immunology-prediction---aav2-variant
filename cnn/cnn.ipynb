version https://git-lfs.github.com/spec/v1
oid sha256:912425b2d99a2e8cc36413cb5d8f148a65dffafb3d5e528165508348fa40268b
size 21610
